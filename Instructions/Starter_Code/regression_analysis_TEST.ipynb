{
 "cells": [
  {
   "cell_type": "code",
   "execution_count": 16,
   "metadata": {},
   "outputs": [],
   "source": [
    "import numpy as np\n",
    "import pandas as pd\n",
    "from pathlib import Path\n",
    "%matplotlib inline\n",
    "from sklearn.linear_model import LinearRegression"
   ]
  },
  {
   "cell_type": "markdown",
   "metadata": {},
   "source": [
    "# Regression Analysis: Seasonal Effects with Sklearn Linear Regression\n",
    "In this notebook, you will build a SKLearn linear regression model to predict Yen futures (\"settle\") returns with *lagged* Yen futures returns. "
   ]
  },
  {
   "cell_type": "code",
   "execution_count": 17,
   "metadata": {},
   "outputs": [
    {
     "output_type": "execute_result",
     "data": {
      "text/plain": [
       "              Open    High     Low    Last  Change  Settle  Volume  \\\n",
       "Date                                                                 \n",
       "1976-08-02  3398.0  3401.0  3398.0  3401.0     NaN  3401.0     2.0   \n",
       "1976-08-03  3401.0  3401.0  3401.0  3401.0     NaN  3401.0     0.0   \n",
       "1976-08-04  3401.0  3401.0  3401.0  3401.0     NaN  3401.0     0.0   \n",
       "1976-08-05  3401.0  3401.0  3401.0  3401.0     NaN  3401.0     0.0   \n",
       "1976-08-06  3401.0  3401.0  3401.0  3401.0     NaN  3401.0     0.0   \n",
       "\n",
       "            Previous Day Open Interest  \n",
       "Date                                    \n",
       "1976-08-02                         1.0  \n",
       "1976-08-03                         1.0  \n",
       "1976-08-04                         1.0  \n",
       "1976-08-05                         1.0  \n",
       "1976-08-06                         1.0  "
      ],
      "text/html": "<div>\n<style scoped>\n    .dataframe tbody tr th:only-of-type {\n        vertical-align: middle;\n    }\n\n    .dataframe tbody tr th {\n        vertical-align: top;\n    }\n\n    .dataframe thead th {\n        text-align: right;\n    }\n</style>\n<table border=\"1\" class=\"dataframe\">\n  <thead>\n    <tr style=\"text-align: right;\">\n      <th></th>\n      <th>Open</th>\n      <th>High</th>\n      <th>Low</th>\n      <th>Last</th>\n      <th>Change</th>\n      <th>Settle</th>\n      <th>Volume</th>\n      <th>Previous Day Open Interest</th>\n    </tr>\n    <tr>\n      <th>Date</th>\n      <th></th>\n      <th></th>\n      <th></th>\n      <th></th>\n      <th></th>\n      <th></th>\n      <th></th>\n      <th></th>\n    </tr>\n  </thead>\n  <tbody>\n    <tr>\n      <th>1976-08-02</th>\n      <td>3398.0</td>\n      <td>3401.0</td>\n      <td>3398.0</td>\n      <td>3401.0</td>\n      <td>NaN</td>\n      <td>3401.0</td>\n      <td>2.0</td>\n      <td>1.0</td>\n    </tr>\n    <tr>\n      <th>1976-08-03</th>\n      <td>3401.0</td>\n      <td>3401.0</td>\n      <td>3401.0</td>\n      <td>3401.0</td>\n      <td>NaN</td>\n      <td>3401.0</td>\n      <td>0.0</td>\n      <td>1.0</td>\n    </tr>\n    <tr>\n      <th>1976-08-04</th>\n      <td>3401.0</td>\n      <td>3401.0</td>\n      <td>3401.0</td>\n      <td>3401.0</td>\n      <td>NaN</td>\n      <td>3401.0</td>\n      <td>0.0</td>\n      <td>1.0</td>\n    </tr>\n    <tr>\n      <th>1976-08-05</th>\n      <td>3401.0</td>\n      <td>3401.0</td>\n      <td>3401.0</td>\n      <td>3401.0</td>\n      <td>NaN</td>\n      <td>3401.0</td>\n      <td>0.0</td>\n      <td>1.0</td>\n    </tr>\n    <tr>\n      <th>1976-08-06</th>\n      <td>3401.0</td>\n      <td>3401.0</td>\n      <td>3401.0</td>\n      <td>3401.0</td>\n      <td>NaN</td>\n      <td>3401.0</td>\n      <td>0.0</td>\n      <td>1.0</td>\n    </tr>\n  </tbody>\n</table>\n</div>"
     },
     "metadata": {},
     "execution_count": 17
    }
   ],
   "source": [
    "yen_futures = pd.read_csv(\n",
    "    Path(\"yen.csv\"), index_col=\"Date\", infer_datetime_format=True, parse_dates=True\n",
    ")\n",
    "yen_futures.head()"
   ]
  },
  {
   "cell_type": "code",
   "execution_count": 18,
   "metadata": {},
   "outputs": [
    {
     "output_type": "execute_result",
     "data": {
      "text/plain": [
       "              Open    High     Low    Last  Change  Settle   Volume  \\\n",
       "Date                                                                  \n",
       "1990-01-02  6954.0  6954.0  6835.0  6847.0     NaN  6847.0  48336.0   \n",
       "1990-01-03  6877.0  6910.0  6865.0  6887.0     NaN  6887.0  38206.0   \n",
       "1990-01-04  6937.0  7030.0  6924.0  7008.0     NaN  7008.0  49649.0   \n",
       "1990-01-05  6952.0  6985.0  6942.0  6950.0     NaN  6950.0  29944.0   \n",
       "1990-01-08  6936.0  6972.0  6936.0  6959.0     NaN  6959.0  19763.0   \n",
       "\n",
       "            Previous Day Open Interest  \n",
       "Date                                    \n",
       "1990-01-02                     51473.0  \n",
       "1990-01-03                     53860.0  \n",
       "1990-01-04                     55699.0  \n",
       "1990-01-05                     53111.0  \n",
       "1990-01-08                     52072.0  "
      ],
      "text/html": "<div>\n<style scoped>\n    .dataframe tbody tr th:only-of-type {\n        vertical-align: middle;\n    }\n\n    .dataframe tbody tr th {\n        vertical-align: top;\n    }\n\n    .dataframe thead th {\n        text-align: right;\n    }\n</style>\n<table border=\"1\" class=\"dataframe\">\n  <thead>\n    <tr style=\"text-align: right;\">\n      <th></th>\n      <th>Open</th>\n      <th>High</th>\n      <th>Low</th>\n      <th>Last</th>\n      <th>Change</th>\n      <th>Settle</th>\n      <th>Volume</th>\n      <th>Previous Day Open Interest</th>\n    </tr>\n    <tr>\n      <th>Date</th>\n      <th></th>\n      <th></th>\n      <th></th>\n      <th></th>\n      <th></th>\n      <th></th>\n      <th></th>\n      <th></th>\n    </tr>\n  </thead>\n  <tbody>\n    <tr>\n      <th>1990-01-02</th>\n      <td>6954.0</td>\n      <td>6954.0</td>\n      <td>6835.0</td>\n      <td>6847.0</td>\n      <td>NaN</td>\n      <td>6847.0</td>\n      <td>48336.0</td>\n      <td>51473.0</td>\n    </tr>\n    <tr>\n      <th>1990-01-03</th>\n      <td>6877.0</td>\n      <td>6910.0</td>\n      <td>6865.0</td>\n      <td>6887.0</td>\n      <td>NaN</td>\n      <td>6887.0</td>\n      <td>38206.0</td>\n      <td>53860.0</td>\n    </tr>\n    <tr>\n      <th>1990-01-04</th>\n      <td>6937.0</td>\n      <td>7030.0</td>\n      <td>6924.0</td>\n      <td>7008.0</td>\n      <td>NaN</td>\n      <td>7008.0</td>\n      <td>49649.0</td>\n      <td>55699.0</td>\n    </tr>\n    <tr>\n      <th>1990-01-05</th>\n      <td>6952.0</td>\n      <td>6985.0</td>\n      <td>6942.0</td>\n      <td>6950.0</td>\n      <td>NaN</td>\n      <td>6950.0</td>\n      <td>29944.0</td>\n      <td>53111.0</td>\n    </tr>\n    <tr>\n      <th>1990-01-08</th>\n      <td>6936.0</td>\n      <td>6972.0</td>\n      <td>6936.0</td>\n      <td>6959.0</td>\n      <td>NaN</td>\n      <td>6959.0</td>\n      <td>19763.0</td>\n      <td>52072.0</td>\n    </tr>\n  </tbody>\n</table>\n</div>"
     },
     "metadata": {},
     "execution_count": 18
    }
   ],
   "source": [
    "yen_futures = yen_futures.loc[\"1990-01-01\":, :]\n",
    "yen_futures.head()"
   ]
  },
  {
   "cell_type": "markdown",
   "metadata": {},
   "source": [
    "# Data Preparation"
   ]
  },
  {
   "cell_type": "markdown",
   "metadata": {},
   "source": [
    "### Returns"
   ]
  },
  {
   "cell_type": "code",
   "execution_count": 19,
   "metadata": {},
   "outputs": [
    {
     "output_type": "execute_result",
     "data": {
      "text/plain": [
       "              Open    High     Low    Last  Change  Settle    Volume  \\\n",
       "Date                                                                   \n",
       "2014-02-18  9831.0  9865.0  9734.0  9775.0    42.0  9775.0  203495.0   \n",
       "2014-02-19  9768.0  9825.0  9760.0  9773.0     2.0  9773.0  129508.0   \n",
       "2014-02-20  9774.0  9837.0  9765.0  9775.0     2.0  9775.0  160202.0   \n",
       "2014-02-21  9772.0  9776.0  9725.0  9758.0    20.0  9755.0  103091.0   \n",
       "2014-02-24  9752.0  9789.0  9740.0  9757.0     2.0  9757.0   90654.0   \n",
       "...            ...     ...     ...     ...     ...     ...       ...   \n",
       "2019-10-09  9381.0  9391.5  9330.5  9343.5    38.5  9338.0   99153.0   \n",
       "2019-10-10  9343.5  9380.5  9293.5  9301.0    34.5  9303.5  159397.0   \n",
       "2019-10-11  9308.5  9309.0  9240.0  9267.0    52.5  9251.0  158810.0   \n",
       "2019-10-14  9259.0  9292.0  9250.5  9261.0    14.0  9265.0   69457.0   \n",
       "2019-10-15  9264.5  9280.0  9216.5  9220.0    43.5  9221.5  108342.0   \n",
       "\n",
       "            Previous Day Open Interest    Return  \n",
       "Date                                              \n",
       "2014-02-18                    196924.0 -0.427829  \n",
       "2014-02-19                    197197.0 -0.020460  \n",
       "2014-02-20                    198280.0  0.020465  \n",
       "2014-02-21                    202990.0 -0.204604  \n",
       "2014-02-24                    203114.0  0.020502  \n",
       "...                                ...       ...  \n",
       "2019-10-09                    145470.0 -0.410601  \n",
       "2019-10-10                    144474.0 -0.369458  \n",
       "2019-10-11                    147471.0 -0.564304  \n",
       "2019-10-14                    153902.0  0.151335  \n",
       "2019-10-15                    151564.0 -0.469509  \n",
       "\n",
       "[1415 rows x 9 columns]"
      ],
      "text/html": "<div>\n<style scoped>\n    .dataframe tbody tr th:only-of-type {\n        vertical-align: middle;\n    }\n\n    .dataframe tbody tr th {\n        vertical-align: top;\n    }\n\n    .dataframe thead th {\n        text-align: right;\n    }\n</style>\n<table border=\"1\" class=\"dataframe\">\n  <thead>\n    <tr style=\"text-align: right;\">\n      <th></th>\n      <th>Open</th>\n      <th>High</th>\n      <th>Low</th>\n      <th>Last</th>\n      <th>Change</th>\n      <th>Settle</th>\n      <th>Volume</th>\n      <th>Previous Day Open Interest</th>\n      <th>Return</th>\n    </tr>\n    <tr>\n      <th>Date</th>\n      <th></th>\n      <th></th>\n      <th></th>\n      <th></th>\n      <th></th>\n      <th></th>\n      <th></th>\n      <th></th>\n      <th></th>\n    </tr>\n  </thead>\n  <tbody>\n    <tr>\n      <th>2014-02-18</th>\n      <td>9831.0</td>\n      <td>9865.0</td>\n      <td>9734.0</td>\n      <td>9775.0</td>\n      <td>42.0</td>\n      <td>9775.0</td>\n      <td>203495.0</td>\n      <td>196924.0</td>\n      <td>-0.427829</td>\n    </tr>\n    <tr>\n      <th>2014-02-19</th>\n      <td>9768.0</td>\n      <td>9825.0</td>\n      <td>9760.0</td>\n      <td>9773.0</td>\n      <td>2.0</td>\n      <td>9773.0</td>\n      <td>129508.0</td>\n      <td>197197.0</td>\n      <td>-0.020460</td>\n    </tr>\n    <tr>\n      <th>2014-02-20</th>\n      <td>9774.0</td>\n      <td>9837.0</td>\n      <td>9765.0</td>\n      <td>9775.0</td>\n      <td>2.0</td>\n      <td>9775.0</td>\n      <td>160202.0</td>\n      <td>198280.0</td>\n      <td>0.020465</td>\n    </tr>\n    <tr>\n      <th>2014-02-21</th>\n      <td>9772.0</td>\n      <td>9776.0</td>\n      <td>9725.0</td>\n      <td>9758.0</td>\n      <td>20.0</td>\n      <td>9755.0</td>\n      <td>103091.0</td>\n      <td>202990.0</td>\n      <td>-0.204604</td>\n    </tr>\n    <tr>\n      <th>2014-02-24</th>\n      <td>9752.0</td>\n      <td>9789.0</td>\n      <td>9740.0</td>\n      <td>9757.0</td>\n      <td>2.0</td>\n      <td>9757.0</td>\n      <td>90654.0</td>\n      <td>203114.0</td>\n      <td>0.020502</td>\n    </tr>\n    <tr>\n      <th>...</th>\n      <td>...</td>\n      <td>...</td>\n      <td>...</td>\n      <td>...</td>\n      <td>...</td>\n      <td>...</td>\n      <td>...</td>\n      <td>...</td>\n      <td>...</td>\n    </tr>\n    <tr>\n      <th>2019-10-09</th>\n      <td>9381.0</td>\n      <td>9391.5</td>\n      <td>9330.5</td>\n      <td>9343.5</td>\n      <td>38.5</td>\n      <td>9338.0</td>\n      <td>99153.0</td>\n      <td>145470.0</td>\n      <td>-0.410601</td>\n    </tr>\n    <tr>\n      <th>2019-10-10</th>\n      <td>9343.5</td>\n      <td>9380.5</td>\n      <td>9293.5</td>\n      <td>9301.0</td>\n      <td>34.5</td>\n      <td>9303.5</td>\n      <td>159397.0</td>\n      <td>144474.0</td>\n      <td>-0.369458</td>\n    </tr>\n    <tr>\n      <th>2019-10-11</th>\n      <td>9308.5</td>\n      <td>9309.0</td>\n      <td>9240.0</td>\n      <td>9267.0</td>\n      <td>52.5</td>\n      <td>9251.0</td>\n      <td>158810.0</td>\n      <td>147471.0</td>\n      <td>-0.564304</td>\n    </tr>\n    <tr>\n      <th>2019-10-14</th>\n      <td>9259.0</td>\n      <td>9292.0</td>\n      <td>9250.5</td>\n      <td>9261.0</td>\n      <td>14.0</td>\n      <td>9265.0</td>\n      <td>69457.0</td>\n      <td>153902.0</td>\n      <td>0.151335</td>\n    </tr>\n    <tr>\n      <th>2019-10-15</th>\n      <td>9264.5</td>\n      <td>9280.0</td>\n      <td>9216.5</td>\n      <td>9220.0</td>\n      <td>43.5</td>\n      <td>9221.5</td>\n      <td>108342.0</td>\n      <td>151564.0</td>\n      <td>-0.469509</td>\n    </tr>\n  </tbody>\n</table>\n<p>1415 rows × 9 columns</p>\n</div>"
     },
     "metadata": {},
     "execution_count": 19
    }
   ],
   "source": [
    "returns = yen_futures.Settle.pct_change() * 100\n",
    "yen_futures['Return']=returns.copy()\n",
    "yen_futures = yen_futures.dropna()\n",
    "\n",
    "yen_futures['Return'] = yen_futures['Return'].replace(-np.inf, np.nan)\n",
    "yen_futures['Return'] = yen_futures['Return'].replace(np.inf, np.nan)\n",
    "\n",
    "yen_futures"
   ]
  },
  {
   "cell_type": "markdown",
   "metadata": {},
   "source": [
    "### Lagged Returns "
   ]
  },
  {
   "cell_type": "code",
   "execution_count": 20,
   "metadata": {},
   "outputs": [
    {
     "output_type": "execute_result",
     "data": {
      "text/plain": [
       "              Open    High     Low    Last  Change  Settle    Volume  \\\n",
       "Date                                                                   \n",
       "2019-10-09  9381.0  9391.5  9330.5  9343.5    38.5  9338.0   99153.0   \n",
       "2019-10-10  9343.5  9380.5  9293.5  9301.0    34.5  9303.5  159397.0   \n",
       "2019-10-11  9308.5  9309.0  9240.0  9267.0    52.5  9251.0  158810.0   \n",
       "2019-10-14  9259.0  9292.0  9250.5  9261.0    14.0  9265.0   69457.0   \n",
       "2019-10-15  9264.5  9280.0  9216.5  9220.0    43.5  9221.5  108342.0   \n",
       "\n",
       "            Previous Day Open Interest    Return  Lagged_Return  \n",
       "Date                                                             \n",
       "2019-10-09                    145470.0 -0.410601       0.170931  \n",
       "2019-10-10                    144474.0 -0.369458      -0.410601  \n",
       "2019-10-11                    147471.0 -0.564304      -0.369458  \n",
       "2019-10-14                    153902.0  0.151335      -0.564304  \n",
       "2019-10-15                    151564.0 -0.469509       0.151335  "
      ],
      "text/html": "<div>\n<style scoped>\n    .dataframe tbody tr th:only-of-type {\n        vertical-align: middle;\n    }\n\n    .dataframe tbody tr th {\n        vertical-align: top;\n    }\n\n    .dataframe thead th {\n        text-align: right;\n    }\n</style>\n<table border=\"1\" class=\"dataframe\">\n  <thead>\n    <tr style=\"text-align: right;\">\n      <th></th>\n      <th>Open</th>\n      <th>High</th>\n      <th>Low</th>\n      <th>Last</th>\n      <th>Change</th>\n      <th>Settle</th>\n      <th>Volume</th>\n      <th>Previous Day Open Interest</th>\n      <th>Return</th>\n      <th>Lagged_Return</th>\n    </tr>\n    <tr>\n      <th>Date</th>\n      <th></th>\n      <th></th>\n      <th></th>\n      <th></th>\n      <th></th>\n      <th></th>\n      <th></th>\n      <th></th>\n      <th></th>\n      <th></th>\n    </tr>\n  </thead>\n  <tbody>\n    <tr>\n      <th>2019-10-09</th>\n      <td>9381.0</td>\n      <td>9391.5</td>\n      <td>9330.5</td>\n      <td>9343.5</td>\n      <td>38.5</td>\n      <td>9338.0</td>\n      <td>99153.0</td>\n      <td>145470.0</td>\n      <td>-0.410601</td>\n      <td>0.170931</td>\n    </tr>\n    <tr>\n      <th>2019-10-10</th>\n      <td>9343.5</td>\n      <td>9380.5</td>\n      <td>9293.5</td>\n      <td>9301.0</td>\n      <td>34.5</td>\n      <td>9303.5</td>\n      <td>159397.0</td>\n      <td>144474.0</td>\n      <td>-0.369458</td>\n      <td>-0.410601</td>\n    </tr>\n    <tr>\n      <th>2019-10-11</th>\n      <td>9308.5</td>\n      <td>9309.0</td>\n      <td>9240.0</td>\n      <td>9267.0</td>\n      <td>52.5</td>\n      <td>9251.0</td>\n      <td>158810.0</td>\n      <td>147471.0</td>\n      <td>-0.564304</td>\n      <td>-0.369458</td>\n    </tr>\n    <tr>\n      <th>2019-10-14</th>\n      <td>9259.0</td>\n      <td>9292.0</td>\n      <td>9250.5</td>\n      <td>9261.0</td>\n      <td>14.0</td>\n      <td>9265.0</td>\n      <td>69457.0</td>\n      <td>153902.0</td>\n      <td>0.151335</td>\n      <td>-0.564304</td>\n    </tr>\n    <tr>\n      <th>2019-10-15</th>\n      <td>9264.5</td>\n      <td>9280.0</td>\n      <td>9216.5</td>\n      <td>9220.0</td>\n      <td>43.5</td>\n      <td>9221.5</td>\n      <td>108342.0</td>\n      <td>151564.0</td>\n      <td>-0.469509</td>\n      <td>0.151335</td>\n    </tr>\n  </tbody>\n</table>\n</div>"
     },
     "metadata": {},
     "execution_count": 20
    }
   ],
   "source": [
    "yen_futures['Lagged_Return'] = returns.shift()\n",
    "yen_futures.tail()\n"
   ]
  },
  {
   "cell_type": "markdown",
   "metadata": {},
   "source": [
    "### Train Test Split"
   ]
  },
  {
   "cell_type": "code",
   "execution_count": 21,
   "metadata": {},
   "outputs": [],
   "source": [
    "# QUESTIONS!!!\n",
    "\n",
    "# I am using the train = yen_futures[:'2018'] for this one to show my X_train results if I used that instead.  The MSE and RMSE calculated from this also closely matches the numbers in the starter code \n",
    "\n",
    "# Also, not sure why the X_train in the key does not show the result for 2014-02-18 but mine does.  Did I do something incorrectly earlier in the code?\n",
    "\n",
    "train = yen_futures[:'2018']\n",
    "test = yen_futures['2018':]"
   ]
  },
  {
   "cell_type": "code",
   "execution_count": 22,
   "metadata": {},
   "outputs": [],
   "source": [
    "# train = yen_futures[:'2017']\n",
    "# test = yen_futures['2018':]\n"
   ]
  },
  {
   "cell_type": "code",
   "execution_count": 23,
   "metadata": {},
   "outputs": [],
   "source": [
    "# Create four dataframes:\n",
    "# X_train (training set using just the independent variables), X_test (test set of of just the independent variables)\n",
    "# Y_train (training set using just the \"y\" variable, i.e., \"Futures Return\"), Y_test (test set of just the \"y\" variable):\n",
    "# YOUR CODE HERE!\n",
    "X_train = train[\"Lagged_Return\"].to_frame()\n",
    "X_test = test[\"Lagged_Return\"].to_frame()\n",
    "y_train = train[\"Return\"]\n",
    "y_test = test[\"Return\"]"
   ]
  },
  {
   "cell_type": "code",
   "execution_count": 24,
   "metadata": {},
   "outputs": [
    {
     "output_type": "execute_result",
     "data": {
      "text/plain": [
       "            Lagged_Return\n",
       "Date                     \n",
       "2014-02-18       0.409123\n",
       "2014-02-19      -0.427829\n",
       "2014-02-20      -0.020460\n",
       "2014-02-21       0.020465\n",
       "2014-02-24      -0.204604\n",
       "...                   ...\n",
       "2018-12-24      -0.187545\n",
       "2018-12-26       0.834485\n",
       "2018-12-27      -0.893346\n",
       "2018-12-28       0.464525\n",
       "2018-12-31       0.297242\n",
       "\n",
       "[1219 rows x 1 columns]"
      ],
      "text/html": "<div>\n<style scoped>\n    .dataframe tbody tr th:only-of-type {\n        vertical-align: middle;\n    }\n\n    .dataframe tbody tr th {\n        vertical-align: top;\n    }\n\n    .dataframe thead th {\n        text-align: right;\n    }\n</style>\n<table border=\"1\" class=\"dataframe\">\n  <thead>\n    <tr style=\"text-align: right;\">\n      <th></th>\n      <th>Lagged_Return</th>\n    </tr>\n    <tr>\n      <th>Date</th>\n      <th></th>\n    </tr>\n  </thead>\n  <tbody>\n    <tr>\n      <th>2014-02-18</th>\n      <td>0.409123</td>\n    </tr>\n    <tr>\n      <th>2014-02-19</th>\n      <td>-0.427829</td>\n    </tr>\n    <tr>\n      <th>2014-02-20</th>\n      <td>-0.020460</td>\n    </tr>\n    <tr>\n      <th>2014-02-21</th>\n      <td>0.020465</td>\n    </tr>\n    <tr>\n      <th>2014-02-24</th>\n      <td>-0.204604</td>\n    </tr>\n    <tr>\n      <th>...</th>\n      <td>...</td>\n    </tr>\n    <tr>\n      <th>2018-12-24</th>\n      <td>-0.187545</td>\n    </tr>\n    <tr>\n      <th>2018-12-26</th>\n      <td>0.834485</td>\n    </tr>\n    <tr>\n      <th>2018-12-27</th>\n      <td>-0.893346</td>\n    </tr>\n    <tr>\n      <th>2018-12-28</th>\n      <td>0.464525</td>\n    </tr>\n    <tr>\n      <th>2018-12-31</th>\n      <td>0.297242</td>\n    </tr>\n  </tbody>\n</table>\n<p>1219 rows × 1 columns</p>\n</div>"
     },
     "metadata": {},
     "execution_count": 24
    }
   ],
   "source": [
    "X_train"
   ]
  },
  {
   "cell_type": "markdown",
   "metadata": {},
   "source": [
    "# Linear Regression Model"
   ]
  },
  {
   "cell_type": "code",
   "execution_count": 25,
   "metadata": {},
   "outputs": [
    {
     "output_type": "execute_result",
     "data": {
      "text/plain": [
       "LinearRegression()"
      ]
     },
     "metadata": {},
     "execution_count": 25
    }
   ],
   "source": [
    "# Create a Linear Regression model and fit it to the training data\n",
    "from sklearn.linear_model import LinearRegression\n",
    "\n",
    "# Fit a SKLearn linear regression using just the training set (X_train, Y_train):\n",
    "# YOUR CODE HERE!\n",
    "#model = LinearRegression()\n",
    "model = LinearRegression()\n",
    "model.fit(X_train, y_train)"
   ]
  },
  {
   "cell_type": "markdown",
   "metadata": {},
   "source": [
    "# Make predictions using the Testing Data\n",
    "\n",
    "Note: We want to evaluate the model using data that it has never seen before, in this case: X_test."
   ]
  },
  {
   "cell_type": "code",
   "execution_count": 26,
   "metadata": {},
   "outputs": [],
   "source": [
    "# Make a prediction of \"y\" values using just the test dataset\n",
    "# YOUR CODE HERE!\n",
    "predictions = model.predict(X_test)"
   ]
  },
  {
   "cell_type": "code",
   "execution_count": 27,
   "metadata": {},
   "outputs": [
    {
     "output_type": "execute_result",
     "data": {
      "text/plain": [
       "              Return  Predicted Return\n",
       "Date                                  \n",
       "2018-01-02  0.297285         -0.006707\n",
       "2018-01-03 -0.240479         -0.007568\n",
       "2018-01-04 -0.213028         -0.001171\n",
       "2018-01-05 -0.353933         -0.001497\n",
       "2018-01-08  0.062017          0.000179"
      ],
      "text/html": "<div>\n<style scoped>\n    .dataframe tbody tr th:only-of-type {\n        vertical-align: middle;\n    }\n\n    .dataframe tbody tr th {\n        vertical-align: top;\n    }\n\n    .dataframe thead th {\n        text-align: right;\n    }\n</style>\n<table border=\"1\" class=\"dataframe\">\n  <thead>\n    <tr style=\"text-align: right;\">\n      <th></th>\n      <th>Return</th>\n      <th>Predicted Return</th>\n    </tr>\n    <tr>\n      <th>Date</th>\n      <th></th>\n      <th></th>\n    </tr>\n  </thead>\n  <tbody>\n    <tr>\n      <th>2018-01-02</th>\n      <td>0.297285</td>\n      <td>-0.006707</td>\n    </tr>\n    <tr>\n      <th>2018-01-03</th>\n      <td>-0.240479</td>\n      <td>-0.007568</td>\n    </tr>\n    <tr>\n      <th>2018-01-04</th>\n      <td>-0.213028</td>\n      <td>-0.001171</td>\n    </tr>\n    <tr>\n      <th>2018-01-05</th>\n      <td>-0.353933</td>\n      <td>-0.001497</td>\n    </tr>\n    <tr>\n      <th>2018-01-08</th>\n      <td>0.062017</td>\n      <td>0.000179</td>\n    </tr>\n  </tbody>\n</table>\n</div>"
     },
     "metadata": {},
     "execution_count": 27
    }
   ],
   "source": [
    "# Assemble actual y data (Y_test) with predicted y data (from just above) into two columns in a dataframe:\n",
    "# YOUR CODE HERE!\n",
    "\n",
    "Results = y_test.to_frame()\n",
    "Results [\"Predicted Return\"] = predictions\n",
    "Results.head()"
   ]
  },
  {
   "cell_type": "code",
   "execution_count": 28,
   "metadata": {},
   "outputs": [
    {
     "output_type": "execute_result",
     "data": {
      "text/plain": [
       "array([<AxesSubplot:xlabel='Date'>, <AxesSubplot:xlabel='Date'>],\n",
       "      dtype=object)"
      ]
     },
     "metadata": {},
     "execution_count": 28
    },
    {
     "output_type": "display_data",
     "data": {
      "text/plain": "<Figure size 432x288 with 2 Axes>",
      "image/svg+xml": "<?xml version=\"1.0\" encoding=\"utf-8\" standalone=\"no\"?>\r\n<!DOCTYPE svg PUBLIC \"-//W3C//DTD SVG 1.1//EN\"\r\n  \"http://www.w3.org/Graphics/SVG/1.1/DTD/svg11.dtd\">\r\n<!-- Created with matplotlib (https://matplotlib.org/) -->\r\n<svg height=\"268.35744pt\" version=\"1.1\" viewBox=\"0 0 400.020618 268.35744\" width=\"400.020618pt\" xmlns=\"http://www.w3.org/2000/svg\" xmlns:xlink=\"http://www.w3.org/1999/xlink\">\r\n <metadata>\r\n  <rdf:RDF xmlns:cc=\"http://creativecommons.org/ns#\" xmlns:dc=\"http://purl.org/dc/elements/1.1/\" xmlns:rdf=\"http://www.w3.org/1999/02/22-rdf-syntax-ns#\">\r\n   <cc:Work>\r\n    <dc:type rdf:resource=\"http://purl.org/dc/dcmitype/StillImage\"/>\r\n    <dc:date>2021-01-04T03:11:58.726797</dc:date>\r\n    <dc:format>image/svg+xml</dc:format>\r\n    <dc:creator>\r\n     <cc:Agent>\r\n      <dc:title>Matplotlib v3.3.2, https://matplotlib.org/</dc:title>\r\n     </cc:Agent>\r\n    </dc:creator>\r\n   </cc:Work>\r\n  </rdf:RDF>\r\n </metadata>\r\n <defs>\r\n  <style type=\"text/css\">*{stroke-linecap:butt;stroke-linejoin:round;}</style>\r\n </defs>\r\n <g id=\"figure_1\">\r\n  <g id=\"patch_1\">\r\n   <path d=\"M 0 268.35744 \r\nL 400.020618 268.35744 \r\nL 400.020618 0 \r\nL 0 0 \r\nz\r\n\" style=\"fill:none;\"/>\r\n  </g>\r\n  <g id=\"axes_1\">\r\n   <g id=\"patch_2\">\r\n    <path d=\"M 58.020618 96.218182 \r\nL 392.820618 96.218182 \r\nL 392.820618 7.2 \r\nL 58.020618 7.2 \r\nz\r\n\" style=\"fill:#ffffff;\"/>\r\n   </g>\r\n   <g id=\"matplotlib.axis_1\">\r\n    <g id=\"xtick_1\">\r\n     <g id=\"line2d_1\">\r\n      <defs>\r\n       <path d=\"M 0 0 \r\nL 0 3.5 \r\n\" id=\"me726a0349a\" style=\"stroke:#000000;stroke-width:0.8;\"/>\r\n      </defs>\r\n      <g>\r\n       <use style=\"stroke:#000000;stroke-width:0.8;\" x=\"62.36867\" xlink:href=\"#me726a0349a\" y=\"96.218182\"/>\r\n      </g>\r\n     </g>\r\n    </g>\r\n    <g id=\"xtick_2\">\r\n     <g id=\"line2d_2\">\r\n      <g>\r\n       <use style=\"stroke:#000000;stroke-width:0.8;\" x=\"105.84919\" xlink:href=\"#me726a0349a\" y=\"96.218182\"/>\r\n      </g>\r\n     </g>\r\n    </g>\r\n    <g id=\"xtick_3\">\r\n     <g id=\"line2d_3\">\r\n      <g>\r\n       <use style=\"stroke:#000000;stroke-width:0.8;\" x=\"149.329709\" xlink:href=\"#me726a0349a\" y=\"96.218182\"/>\r\n      </g>\r\n     </g>\r\n    </g>\r\n    <g id=\"xtick_4\">\r\n     <g id=\"line2d_4\">\r\n      <g>\r\n       <use style=\"stroke:#000000;stroke-width:0.8;\" x=\"192.810229\" xlink:href=\"#me726a0349a\" y=\"96.218182\"/>\r\n      </g>\r\n     </g>\r\n    </g>\r\n    <g id=\"xtick_5\">\r\n     <g id=\"line2d_5\">\r\n      <g>\r\n       <use style=\"stroke:#000000;stroke-width:0.8;\" x=\"236.290748\" xlink:href=\"#me726a0349a\" y=\"96.218182\"/>\r\n      </g>\r\n     </g>\r\n    </g>\r\n    <g id=\"xtick_6\">\r\n     <g id=\"line2d_6\">\r\n      <g>\r\n       <use style=\"stroke:#000000;stroke-width:0.8;\" x=\"279.771268\" xlink:href=\"#me726a0349a\" y=\"96.218182\"/>\r\n      </g>\r\n     </g>\r\n    </g>\r\n    <g id=\"xtick_7\">\r\n     <g id=\"line2d_7\">\r\n      <g>\r\n       <use style=\"stroke:#000000;stroke-width:0.8;\" x=\"323.251787\" xlink:href=\"#me726a0349a\" y=\"96.218182\"/>\r\n      </g>\r\n     </g>\r\n    </g>\r\n    <g id=\"xtick_8\">\r\n     <g id=\"line2d_8\">\r\n      <g>\r\n       <use style=\"stroke:#000000;stroke-width:0.8;\" x=\"366.732306\" xlink:href=\"#me726a0349a\" y=\"96.218182\"/>\r\n      </g>\r\n     </g>\r\n    </g>\r\n    <g id=\"xtick_9\">\r\n     <g id=\"line2d_9\">\r\n      <defs>\r\n       <path d=\"M 0 0 \r\nL 0 2 \r\n\" id=\"me7f62317ba\" style=\"stroke:#000000;stroke-width:0.6;\"/>\r\n      </defs>\r\n      <g>\r\n       <use style=\"stroke:#000000;stroke-width:0.6;\" x=\"94.97906\" xlink:href=\"#me7f62317ba\" y=\"96.218182\"/>\r\n      </g>\r\n     </g>\r\n    </g>\r\n    <g id=\"xtick_10\">\r\n     <g id=\"line2d_10\">\r\n      <g>\r\n       <use style=\"stroke:#000000;stroke-width:0.6;\" x=\"203.680358\" xlink:href=\"#me7f62317ba\" y=\"96.218182\"/>\r\n      </g>\r\n     </g>\r\n    </g>\r\n    <g id=\"xtick_11\">\r\n     <g id=\"line2d_11\">\r\n      <g>\r\n       <use style=\"stroke:#000000;stroke-width:0.6;\" x=\"258.031008\" xlink:href=\"#me7f62317ba\" y=\"96.218182\"/>\r\n      </g>\r\n     </g>\r\n    </g>\r\n    <g id=\"xtick_12\">\r\n     <g id=\"line2d_12\">\r\n      <g>\r\n       <use style=\"stroke:#000000;stroke-width:0.6;\" x=\"312.381657\" xlink:href=\"#me7f62317ba\" y=\"96.218182\"/>\r\n      </g>\r\n     </g>\r\n    </g>\r\n   </g>\r\n   <g id=\"matplotlib.axis_2\">\r\n    <g id=\"ytick_1\">\r\n     <g id=\"line2d_13\">\r\n      <defs>\r\n       <path d=\"M 0 0 \r\nL -3.5 0 \r\n\" id=\"m7f4cbfb00c\" style=\"stroke:#000000;stroke-width:0.8;\"/>\r\n      </defs>\r\n      <g>\r\n       <use style=\"stroke:#000000;stroke-width:0.8;\" x=\"58.020618\" xlink:href=\"#m7f4cbfb00c\" y=\"60.915161\"/>\r\n      </g>\r\n     </g>\r\n     <g id=\"text_1\">\r\n      <!-- 0 -->\r\n      <g transform=\"translate(44.658118 64.71438)scale(0.1 -0.1)\">\r\n       <defs>\r\n        <path d=\"M 31.78125 66.40625 \r\nQ 24.171875 66.40625 20.328125 58.90625 \r\nQ 16.5 51.421875 16.5 36.375 \r\nQ 16.5 21.390625 20.328125 13.890625 \r\nQ 24.171875 6.390625 31.78125 6.390625 \r\nQ 39.453125 6.390625 43.28125 13.890625 \r\nQ 47.125 21.390625 47.125 36.375 \r\nQ 47.125 51.421875 43.28125 58.90625 \r\nQ 39.453125 66.40625 31.78125 66.40625 \r\nz\r\nM 31.78125 74.21875 \r\nQ 44.046875 74.21875 50.515625 64.515625 \r\nQ 56.984375 54.828125 56.984375 36.375 \r\nQ 56.984375 17.96875 50.515625 8.265625 \r\nQ 44.046875 -1.421875 31.78125 -1.421875 \r\nQ 19.53125 -1.421875 13.0625 8.265625 \r\nQ 6.59375 17.96875 6.59375 36.375 \r\nQ 6.59375 54.828125 13.0625 64.515625 \r\nQ 19.53125 74.21875 31.78125 74.21875 \r\nz\r\n\" id=\"DejaVuSans-48\"/>\r\n       </defs>\r\n       <use xlink:href=\"#DejaVuSans-48\"/>\r\n      </g>\r\n     </g>\r\n    </g>\r\n    <g id=\"ytick_2\">\r\n     <g id=\"line2d_14\">\r\n      <g>\r\n       <use style=\"stroke:#000000;stroke-width:0.8;\" x=\"58.020618\" xlink:href=\"#m7f4cbfb00c\" y=\"18.163932\"/>\r\n      </g>\r\n     </g>\r\n     <g id=\"text_2\">\r\n      <!-- 1 -->\r\n      <g transform=\"translate(44.658118 21.963151)scale(0.1 -0.1)\">\r\n       <defs>\r\n        <path d=\"M 12.40625 8.296875 \r\nL 28.515625 8.296875 \r\nL 28.515625 63.921875 \r\nL 10.984375 60.40625 \r\nL 10.984375 69.390625 \r\nL 28.421875 72.90625 \r\nL 38.28125 72.90625 \r\nL 38.28125 8.296875 \r\nL 54.390625 8.296875 \r\nL 54.390625 0 \r\nL 12.40625 0 \r\nz\r\n\" id=\"DejaVuSans-49\"/>\r\n       </defs>\r\n       <use xlink:href=\"#DejaVuSans-49\"/>\r\n      </g>\r\n     </g>\r\n    </g>\r\n   </g>\r\n   <g id=\"line2d_15\">\r\n    <path clip-path=\"url(#p634c0ee99b)\" d=\"M 73.2388 48.205855 \r\nL 84.10893 71.195922 \r\nL 94.97906 70.022386 \r\nL 105.84919 76.046214 \r\nL 138.459579 58.263848 \r\nL 149.329709 44.294501 \r\nL 160.199839 11.246281 \r\nL 171.069969 50.953157 \r\nL 181.940099 60.205244 \r\nL 225.420618 32.049978 \r\nL 236.290748 92.171901 \r\nL 247.160878 57.127258 \r\nL 258.031008 45.776959 \r\nL 290.641397 76.471348 \r\nL 301.511527 35.130058 \r\nL 312.381657 11.300127 \r\nL 323.251787 75.791622 \r\nL 334.121917 31.758114 \r\nL 366.732306 71.572272 \r\nL 377.602436 54.412014 \r\n\" style=\"fill:none;stroke:#1f77b4;stroke-linecap:square;stroke-width:1.5;\"/>\r\n   </g>\r\n   <g id=\"patch_3\">\r\n    <path d=\"M 58.020618 96.218182 \r\nL 58.020618 7.2 \r\n\" style=\"fill:none;stroke:#000000;stroke-linecap:square;stroke-linejoin:miter;stroke-width:0.8;\"/>\r\n   </g>\r\n   <g id=\"patch_4\">\r\n    <path d=\"M 392.820618 96.218182 \r\nL 392.820618 7.2 \r\n\" style=\"fill:none;stroke:#000000;stroke-linecap:square;stroke-linejoin:miter;stroke-width:0.8;\"/>\r\n   </g>\r\n   <g id=\"patch_5\">\r\n    <path d=\"M 58.020618 96.218182 \r\nL 392.820618 96.218182 \r\n\" style=\"fill:none;stroke:#000000;stroke-linecap:square;stroke-linejoin:miter;stroke-width:0.8;\"/>\r\n   </g>\r\n   <g id=\"patch_6\">\r\n    <path d=\"M 58.020618 7.2 \r\nL 392.820618 7.2 \r\n\" style=\"fill:none;stroke:#000000;stroke-linecap:square;stroke-linejoin:miter;stroke-width:0.8;\"/>\r\n   </g>\r\n   <g id=\"legend_1\">\r\n    <g id=\"patch_7\">\r\n     <path d=\"M 320.637806 29.878125 \r\nL 385.820618 29.878125 \r\nQ 387.820618 29.878125 387.820618 27.878125 \r\nL 387.820618 14.2 \r\nQ 387.820618 12.2 385.820618 12.2 \r\nL 320.637806 12.2 \r\nQ 318.637806 12.2 318.637806 14.2 \r\nL 318.637806 27.878125 \r\nQ 318.637806 29.878125 320.637806 29.878125 \r\nz\r\n\" style=\"fill:#ffffff;opacity:0.8;stroke:#cccccc;stroke-linejoin:miter;\"/>\r\n    </g>\r\n    <g id=\"line2d_16\">\r\n     <path d=\"M 322.637806 20.298437 \r\nL 342.637806 20.298437 \r\n\" style=\"fill:none;stroke:#1f77b4;stroke-linecap:square;stroke-width:1.5;\"/>\r\n    </g>\r\n    <g id=\"line2d_17\"/>\r\n    <g id=\"text_3\">\r\n     <!-- Return -->\r\n     <g transform=\"translate(350.637806 23.798437)scale(0.1 -0.1)\">\r\n      <defs>\r\n       <path d=\"M 44.390625 34.1875 \r\nQ 47.5625 33.109375 50.5625 29.59375 \r\nQ 53.5625 26.078125 56.59375 19.921875 \r\nL 66.609375 0 \r\nL 56 0 \r\nL 46.6875 18.703125 \r\nQ 43.0625 26.03125 39.671875 28.421875 \r\nQ 36.28125 30.8125 30.421875 30.8125 \r\nL 19.671875 30.8125 \r\nL 19.671875 0 \r\nL 9.8125 0 \r\nL 9.8125 72.90625 \r\nL 32.078125 72.90625 \r\nQ 44.578125 72.90625 50.734375 67.671875 \r\nQ 56.890625 62.453125 56.890625 51.90625 \r\nQ 56.890625 45.015625 53.6875 40.46875 \r\nQ 50.484375 35.9375 44.390625 34.1875 \r\nz\r\nM 19.671875 64.796875 \r\nL 19.671875 38.921875 \r\nL 32.078125 38.921875 \r\nQ 39.203125 38.921875 42.84375 42.21875 \r\nQ 46.484375 45.515625 46.484375 51.90625 \r\nQ 46.484375 58.296875 42.84375 61.546875 \r\nQ 39.203125 64.796875 32.078125 64.796875 \r\nz\r\n\" id=\"DejaVuSans-82\"/>\r\n       <path d=\"M 56.203125 29.59375 \r\nL 56.203125 25.203125 \r\nL 14.890625 25.203125 \r\nQ 15.484375 15.921875 20.484375 11.0625 \r\nQ 25.484375 6.203125 34.421875 6.203125 \r\nQ 39.59375 6.203125 44.453125 7.46875 \r\nQ 49.3125 8.734375 54.109375 11.28125 \r\nL 54.109375 2.78125 \r\nQ 49.265625 0.734375 44.1875 -0.34375 \r\nQ 39.109375 -1.421875 33.890625 -1.421875 \r\nQ 20.796875 -1.421875 13.15625 6.1875 \r\nQ 5.515625 13.8125 5.515625 26.8125 \r\nQ 5.515625 40.234375 12.765625 48.109375 \r\nQ 20.015625 56 32.328125 56 \r\nQ 43.359375 56 49.78125 48.890625 \r\nQ 56.203125 41.796875 56.203125 29.59375 \r\nz\r\nM 47.21875 32.234375 \r\nQ 47.125 39.59375 43.09375 43.984375 \r\nQ 39.0625 48.390625 32.421875 48.390625 \r\nQ 24.90625 48.390625 20.390625 44.140625 \r\nQ 15.875 39.890625 15.1875 32.171875 \r\nz\r\n\" id=\"DejaVuSans-101\"/>\r\n       <path d=\"M 18.3125 70.21875 \r\nL 18.3125 54.6875 \r\nL 36.8125 54.6875 \r\nL 36.8125 47.703125 \r\nL 18.3125 47.703125 \r\nL 18.3125 18.015625 \r\nQ 18.3125 11.328125 20.140625 9.421875 \r\nQ 21.96875 7.515625 27.59375 7.515625 \r\nL 36.8125 7.515625 \r\nL 36.8125 0 \r\nL 27.59375 0 \r\nQ 17.1875 0 13.234375 3.875 \r\nQ 9.28125 7.765625 9.28125 18.015625 \r\nL 9.28125 47.703125 \r\nL 2.6875 47.703125 \r\nL 2.6875 54.6875 \r\nL 9.28125 54.6875 \r\nL 9.28125 70.21875 \r\nz\r\n\" id=\"DejaVuSans-116\"/>\r\n       <path d=\"M 8.5 21.578125 \r\nL 8.5 54.6875 \r\nL 17.484375 54.6875 \r\nL 17.484375 21.921875 \r\nQ 17.484375 14.15625 20.5 10.265625 \r\nQ 23.53125 6.390625 29.59375 6.390625 \r\nQ 36.859375 6.390625 41.078125 11.03125 \r\nQ 45.3125 15.671875 45.3125 23.6875 \r\nL 45.3125 54.6875 \r\nL 54.296875 54.6875 \r\nL 54.296875 0 \r\nL 45.3125 0 \r\nL 45.3125 8.40625 \r\nQ 42.046875 3.421875 37.71875 1 \r\nQ 33.40625 -1.421875 27.6875 -1.421875 \r\nQ 18.265625 -1.421875 13.375 4.4375 \r\nQ 8.5 10.296875 8.5 21.578125 \r\nz\r\nM 31.109375 56 \r\nz\r\n\" id=\"DejaVuSans-117\"/>\r\n       <path d=\"M 41.109375 46.296875 \r\nQ 39.59375 47.171875 37.8125 47.578125 \r\nQ 36.03125 48 33.890625 48 \r\nQ 26.265625 48 22.1875 43.046875 \r\nQ 18.109375 38.09375 18.109375 28.8125 \r\nL 18.109375 0 \r\nL 9.078125 0 \r\nL 9.078125 54.6875 \r\nL 18.109375 54.6875 \r\nL 18.109375 46.1875 \r\nQ 20.953125 51.171875 25.484375 53.578125 \r\nQ 30.03125 56 36.53125 56 \r\nQ 37.453125 56 38.578125 55.875 \r\nQ 39.703125 55.765625 41.0625 55.515625 \r\nz\r\n\" id=\"DejaVuSans-114\"/>\r\n       <path d=\"M 54.890625 33.015625 \r\nL 54.890625 0 \r\nL 45.90625 0 \r\nL 45.90625 32.71875 \r\nQ 45.90625 40.484375 42.875 44.328125 \r\nQ 39.84375 48.1875 33.796875 48.1875 \r\nQ 26.515625 48.1875 22.3125 43.546875 \r\nQ 18.109375 38.921875 18.109375 30.90625 \r\nL 18.109375 0 \r\nL 9.078125 0 \r\nL 9.078125 54.6875 \r\nL 18.109375 54.6875 \r\nL 18.109375 46.1875 \r\nQ 21.34375 51.125 25.703125 53.5625 \r\nQ 30.078125 56 35.796875 56 \r\nQ 45.21875 56 50.046875 50.171875 \r\nQ 54.890625 44.34375 54.890625 33.015625 \r\nz\r\n\" id=\"DejaVuSans-110\"/>\r\n      </defs>\r\n      <use xlink:href=\"#DejaVuSans-82\"/>\r\n      <use x=\"64.982422\" xlink:href=\"#DejaVuSans-101\"/>\r\n      <use x=\"126.505859\" xlink:href=\"#DejaVuSans-116\"/>\r\n      <use x=\"165.714844\" xlink:href=\"#DejaVuSans-117\"/>\r\n      <use x=\"229.09375\" xlink:href=\"#DejaVuSans-114\"/>\r\n      <use x=\"268.457031\" xlink:href=\"#DejaVuSans-110\"/>\r\n     </g>\r\n    </g>\r\n   </g>\r\n  </g>\r\n  <g id=\"axes_2\">\r\n   <g id=\"patch_8\">\r\n    <path d=\"M 58.020618 203.04 \r\nL 392.820618 203.04 \r\nL 392.820618 114.021818 \r\nL 58.020618 114.021818 \r\nz\r\n\" style=\"fill:#ffffff;\"/>\r\n   </g>\r\n   <g id=\"matplotlib.axis_3\">\r\n    <g id=\"xtick_13\">\r\n     <g id=\"line2d_18\">\r\n      <g>\r\n       <use style=\"stroke:#000000;stroke-width:0.8;\" x=\"62.36867\" xlink:href=\"#me726a0349a\" y=\"203.04\"/>\r\n      </g>\r\n     </g>\r\n     <g id=\"text_4\">\r\n      <!-- 2018-01-01 -->\r\n      <g transform=\"translate(10.999219 245.678252)rotate(-30)scale(0.1 -0.1)\">\r\n       <defs>\r\n        <path d=\"M 19.1875 8.296875 \r\nL 53.609375 8.296875 \r\nL 53.609375 0 \r\nL 7.328125 0 \r\nL 7.328125 8.296875 \r\nQ 12.9375 14.109375 22.625 23.890625 \r\nQ 32.328125 33.6875 34.8125 36.53125 \r\nQ 39.546875 41.84375 41.421875 45.53125 \r\nQ 43.3125 49.21875 43.3125 52.78125 \r\nQ 43.3125 58.59375 39.234375 62.25 \r\nQ 35.15625 65.921875 28.609375 65.921875 \r\nQ 23.96875 65.921875 18.8125 64.3125 \r\nQ 13.671875 62.703125 7.8125 59.421875 \r\nL 7.8125 69.390625 \r\nQ 13.765625 71.78125 18.9375 73 \r\nQ 24.125 74.21875 28.421875 74.21875 \r\nQ 39.75 74.21875 46.484375 68.546875 \r\nQ 53.21875 62.890625 53.21875 53.421875 \r\nQ 53.21875 48.921875 51.53125 44.890625 \r\nQ 49.859375 40.875 45.40625 35.40625 \r\nQ 44.1875 33.984375 37.640625 27.21875 \r\nQ 31.109375 20.453125 19.1875 8.296875 \r\nz\r\n\" id=\"DejaVuSans-50\"/>\r\n        <path d=\"M 31.78125 34.625 \r\nQ 24.75 34.625 20.71875 30.859375 \r\nQ 16.703125 27.09375 16.703125 20.515625 \r\nQ 16.703125 13.921875 20.71875 10.15625 \r\nQ 24.75 6.390625 31.78125 6.390625 \r\nQ 38.8125 6.390625 42.859375 10.171875 \r\nQ 46.921875 13.96875 46.921875 20.515625 \r\nQ 46.921875 27.09375 42.890625 30.859375 \r\nQ 38.875 34.625 31.78125 34.625 \r\nz\r\nM 21.921875 38.8125 \r\nQ 15.578125 40.375 12.03125 44.71875 \r\nQ 8.5 49.078125 8.5 55.328125 \r\nQ 8.5 64.0625 14.71875 69.140625 \r\nQ 20.953125 74.21875 31.78125 74.21875 \r\nQ 42.671875 74.21875 48.875 69.140625 \r\nQ 55.078125 64.0625 55.078125 55.328125 \r\nQ 55.078125 49.078125 51.53125 44.71875 \r\nQ 48 40.375 41.703125 38.8125 \r\nQ 48.828125 37.15625 52.796875 32.3125 \r\nQ 56.78125 27.484375 56.78125 20.515625 \r\nQ 56.78125 9.90625 50.3125 4.234375 \r\nQ 43.84375 -1.421875 31.78125 -1.421875 \r\nQ 19.734375 -1.421875 13.25 4.234375 \r\nQ 6.78125 9.90625 6.78125 20.515625 \r\nQ 6.78125 27.484375 10.78125 32.3125 \r\nQ 14.796875 37.15625 21.921875 38.8125 \r\nz\r\nM 18.3125 54.390625 \r\nQ 18.3125 48.734375 21.84375 45.5625 \r\nQ 25.390625 42.390625 31.78125 42.390625 \r\nQ 38.140625 42.390625 41.71875 45.5625 \r\nQ 45.3125 48.734375 45.3125 54.390625 \r\nQ 45.3125 60.0625 41.71875 63.234375 \r\nQ 38.140625 66.40625 31.78125 66.40625 \r\nQ 25.390625 66.40625 21.84375 63.234375 \r\nQ 18.3125 60.0625 18.3125 54.390625 \r\nz\r\n\" id=\"DejaVuSans-56\"/>\r\n        <path d=\"M 4.890625 31.390625 \r\nL 31.203125 31.390625 \r\nL 31.203125 23.390625 \r\nL 4.890625 23.390625 \r\nz\r\n\" id=\"DejaVuSans-45\"/>\r\n       </defs>\r\n       <use xlink:href=\"#DejaVuSans-50\"/>\r\n       <use x=\"63.623047\" xlink:href=\"#DejaVuSans-48\"/>\r\n       <use x=\"127.246094\" xlink:href=\"#DejaVuSans-49\"/>\r\n       <use x=\"190.869141\" xlink:href=\"#DejaVuSans-56\"/>\r\n       <use x=\"254.492188\" xlink:href=\"#DejaVuSans-45\"/>\r\n       <use x=\"290.576172\" xlink:href=\"#DejaVuSans-48\"/>\r\n       <use x=\"354.199219\" xlink:href=\"#DejaVuSans-49\"/>\r\n       <use x=\"417.822266\" xlink:href=\"#DejaVuSans-45\"/>\r\n       <use x=\"453.90625\" xlink:href=\"#DejaVuSans-48\"/>\r\n       <use x=\"517.529297\" xlink:href=\"#DejaVuSans-49\"/>\r\n      </g>\r\n     </g>\r\n    </g>\r\n    <g id=\"xtick_14\">\r\n     <g id=\"line2d_19\">\r\n      <g>\r\n       <use style=\"stroke:#000000;stroke-width:0.8;\" x=\"105.84919\" xlink:href=\"#me726a0349a\" y=\"203.04\"/>\r\n      </g>\r\n     </g>\r\n     <g id=\"text_5\">\r\n      <!-- 2018-01-05 -->\r\n      <g transform=\"translate(54.479738 245.678252)rotate(-30)scale(0.1 -0.1)\">\r\n       <defs>\r\n        <path d=\"M 10.796875 72.90625 \r\nL 49.515625 72.90625 \r\nL 49.515625 64.59375 \r\nL 19.828125 64.59375 \r\nL 19.828125 46.734375 \r\nQ 21.96875 47.46875 24.109375 47.828125 \r\nQ 26.265625 48.1875 28.421875 48.1875 \r\nQ 40.625 48.1875 47.75 41.5 \r\nQ 54.890625 34.8125 54.890625 23.390625 \r\nQ 54.890625 11.625 47.5625 5.09375 \r\nQ 40.234375 -1.421875 26.90625 -1.421875 \r\nQ 22.3125 -1.421875 17.546875 -0.640625 \r\nQ 12.796875 0.140625 7.71875 1.703125 \r\nL 7.71875 11.625 \r\nQ 12.109375 9.234375 16.796875 8.0625 \r\nQ 21.484375 6.890625 26.703125 6.890625 \r\nQ 35.15625 6.890625 40.078125 11.328125 \r\nQ 45.015625 15.765625 45.015625 23.390625 \r\nQ 45.015625 31 40.078125 35.4375 \r\nQ 35.15625 39.890625 26.703125 39.890625 \r\nQ 22.75 39.890625 18.8125 39.015625 \r\nQ 14.890625 38.140625 10.796875 36.28125 \r\nz\r\n\" id=\"DejaVuSans-53\"/>\r\n       </defs>\r\n       <use xlink:href=\"#DejaVuSans-50\"/>\r\n       <use x=\"63.623047\" xlink:href=\"#DejaVuSans-48\"/>\r\n       <use x=\"127.246094\" xlink:href=\"#DejaVuSans-49\"/>\r\n       <use x=\"190.869141\" xlink:href=\"#DejaVuSans-56\"/>\r\n       <use x=\"254.492188\" xlink:href=\"#DejaVuSans-45\"/>\r\n       <use x=\"290.576172\" xlink:href=\"#DejaVuSans-48\"/>\r\n       <use x=\"354.199219\" xlink:href=\"#DejaVuSans-49\"/>\r\n       <use x=\"417.822266\" xlink:href=\"#DejaVuSans-45\"/>\r\n       <use x=\"453.90625\" xlink:href=\"#DejaVuSans-48\"/>\r\n       <use x=\"517.529297\" xlink:href=\"#DejaVuSans-53\"/>\r\n      </g>\r\n     </g>\r\n    </g>\r\n    <g id=\"xtick_15\">\r\n     <g id=\"line2d_20\">\r\n      <g>\r\n       <use style=\"stroke:#000000;stroke-width:0.8;\" x=\"149.329709\" xlink:href=\"#me726a0349a\" y=\"203.04\"/>\r\n      </g>\r\n     </g>\r\n     <g id=\"text_6\">\r\n      <!-- 2018-01-09 -->\r\n      <g transform=\"translate(97.960258 245.678252)rotate(-30)scale(0.1 -0.1)\">\r\n       <defs>\r\n        <path d=\"M 10.984375 1.515625 \r\nL 10.984375 10.5 \r\nQ 14.703125 8.734375 18.5 7.8125 \r\nQ 22.3125 6.890625 25.984375 6.890625 \r\nQ 35.75 6.890625 40.890625 13.453125 \r\nQ 46.046875 20.015625 46.78125 33.40625 \r\nQ 43.953125 29.203125 39.59375 26.953125 \r\nQ 35.25 24.703125 29.984375 24.703125 \r\nQ 19.046875 24.703125 12.671875 31.3125 \r\nQ 6.296875 37.9375 6.296875 49.421875 \r\nQ 6.296875 60.640625 12.9375 67.421875 \r\nQ 19.578125 74.21875 30.609375 74.21875 \r\nQ 43.265625 74.21875 49.921875 64.515625 \r\nQ 56.59375 54.828125 56.59375 36.375 \r\nQ 56.59375 19.140625 48.40625 8.859375 \r\nQ 40.234375 -1.421875 26.421875 -1.421875 \r\nQ 22.703125 -1.421875 18.890625 -0.6875 \r\nQ 15.09375 0.046875 10.984375 1.515625 \r\nz\r\nM 30.609375 32.421875 \r\nQ 37.25 32.421875 41.125 36.953125 \r\nQ 45.015625 41.5 45.015625 49.421875 \r\nQ 45.015625 57.28125 41.125 61.84375 \r\nQ 37.25 66.40625 30.609375 66.40625 \r\nQ 23.96875 66.40625 20.09375 61.84375 \r\nQ 16.21875 57.28125 16.21875 49.421875 \r\nQ 16.21875 41.5 20.09375 36.953125 \r\nQ 23.96875 32.421875 30.609375 32.421875 \r\nz\r\n\" id=\"DejaVuSans-57\"/>\r\n       </defs>\r\n       <use xlink:href=\"#DejaVuSans-50\"/>\r\n       <use x=\"63.623047\" xlink:href=\"#DejaVuSans-48\"/>\r\n       <use x=\"127.246094\" xlink:href=\"#DejaVuSans-49\"/>\r\n       <use x=\"190.869141\" xlink:href=\"#DejaVuSans-56\"/>\r\n       <use x=\"254.492188\" xlink:href=\"#DejaVuSans-45\"/>\r\n       <use x=\"290.576172\" xlink:href=\"#DejaVuSans-48\"/>\r\n       <use x=\"354.199219\" xlink:href=\"#DejaVuSans-49\"/>\r\n       <use x=\"417.822266\" xlink:href=\"#DejaVuSans-45\"/>\r\n       <use x=\"453.90625\" xlink:href=\"#DejaVuSans-48\"/>\r\n       <use x=\"517.529297\" xlink:href=\"#DejaVuSans-57\"/>\r\n      </g>\r\n     </g>\r\n    </g>\r\n    <g id=\"xtick_16\">\r\n     <g id=\"line2d_21\">\r\n      <g>\r\n       <use style=\"stroke:#000000;stroke-width:0.8;\" x=\"192.810229\" xlink:href=\"#me726a0349a\" y=\"203.04\"/>\r\n      </g>\r\n     </g>\r\n     <g id=\"text_7\">\r\n      <!-- 2018-01-13 -->\r\n      <g transform=\"translate(141.440777 245.678252)rotate(-30)scale(0.1 -0.1)\">\r\n       <defs>\r\n        <path d=\"M 40.578125 39.3125 \r\nQ 47.65625 37.796875 51.625 33 \r\nQ 55.609375 28.21875 55.609375 21.1875 \r\nQ 55.609375 10.40625 48.1875 4.484375 \r\nQ 40.765625 -1.421875 27.09375 -1.421875 \r\nQ 22.515625 -1.421875 17.65625 -0.515625 \r\nQ 12.796875 0.390625 7.625 2.203125 \r\nL 7.625 11.71875 \r\nQ 11.71875 9.328125 16.59375 8.109375 \r\nQ 21.484375 6.890625 26.8125 6.890625 \r\nQ 36.078125 6.890625 40.9375 10.546875 \r\nQ 45.796875 14.203125 45.796875 21.1875 \r\nQ 45.796875 27.640625 41.28125 31.265625 \r\nQ 36.765625 34.90625 28.71875 34.90625 \r\nL 20.21875 34.90625 \r\nL 20.21875 43.015625 \r\nL 29.109375 43.015625 \r\nQ 36.375 43.015625 40.234375 45.921875 \r\nQ 44.09375 48.828125 44.09375 54.296875 \r\nQ 44.09375 59.90625 40.109375 62.90625 \r\nQ 36.140625 65.921875 28.71875 65.921875 \r\nQ 24.65625 65.921875 20.015625 65.03125 \r\nQ 15.375 64.15625 9.8125 62.3125 \r\nL 9.8125 71.09375 \r\nQ 15.4375 72.65625 20.34375 73.4375 \r\nQ 25.25 74.21875 29.59375 74.21875 \r\nQ 40.828125 74.21875 47.359375 69.109375 \r\nQ 53.90625 64.015625 53.90625 55.328125 \r\nQ 53.90625 49.265625 50.4375 45.09375 \r\nQ 46.96875 40.921875 40.578125 39.3125 \r\nz\r\n\" id=\"DejaVuSans-51\"/>\r\n       </defs>\r\n       <use xlink:href=\"#DejaVuSans-50\"/>\r\n       <use x=\"63.623047\" xlink:href=\"#DejaVuSans-48\"/>\r\n       <use x=\"127.246094\" xlink:href=\"#DejaVuSans-49\"/>\r\n       <use x=\"190.869141\" xlink:href=\"#DejaVuSans-56\"/>\r\n       <use x=\"254.492188\" xlink:href=\"#DejaVuSans-45\"/>\r\n       <use x=\"290.576172\" xlink:href=\"#DejaVuSans-48\"/>\r\n       <use x=\"354.199219\" xlink:href=\"#DejaVuSans-49\"/>\r\n       <use x=\"417.822266\" xlink:href=\"#DejaVuSans-45\"/>\r\n       <use x=\"453.90625\" xlink:href=\"#DejaVuSans-49\"/>\r\n       <use x=\"517.529297\" xlink:href=\"#DejaVuSans-51\"/>\r\n      </g>\r\n     </g>\r\n    </g>\r\n    <g id=\"xtick_17\">\r\n     <g id=\"line2d_22\">\r\n      <g>\r\n       <use style=\"stroke:#000000;stroke-width:0.8;\" x=\"236.290748\" xlink:href=\"#me726a0349a\" y=\"203.04\"/>\r\n      </g>\r\n     </g>\r\n     <g id=\"text_8\">\r\n      <!-- 2018-01-17 -->\r\n      <g transform=\"translate(184.921297 245.678252)rotate(-30)scale(0.1 -0.1)\">\r\n       <defs>\r\n        <path d=\"M 8.203125 72.90625 \r\nL 55.078125 72.90625 \r\nL 55.078125 68.703125 \r\nL 28.609375 0 \r\nL 18.3125 0 \r\nL 43.21875 64.59375 \r\nL 8.203125 64.59375 \r\nz\r\n\" id=\"DejaVuSans-55\"/>\r\n       </defs>\r\n       <use xlink:href=\"#DejaVuSans-50\"/>\r\n       <use x=\"63.623047\" xlink:href=\"#DejaVuSans-48\"/>\r\n       <use x=\"127.246094\" xlink:href=\"#DejaVuSans-49\"/>\r\n       <use x=\"190.869141\" xlink:href=\"#DejaVuSans-56\"/>\r\n       <use x=\"254.492188\" xlink:href=\"#DejaVuSans-45\"/>\r\n       <use x=\"290.576172\" xlink:href=\"#DejaVuSans-48\"/>\r\n       <use x=\"354.199219\" xlink:href=\"#DejaVuSans-49\"/>\r\n       <use x=\"417.822266\" xlink:href=\"#DejaVuSans-45\"/>\r\n       <use x=\"453.90625\" xlink:href=\"#DejaVuSans-49\"/>\r\n       <use x=\"517.529297\" xlink:href=\"#DejaVuSans-55\"/>\r\n      </g>\r\n     </g>\r\n    </g>\r\n    <g id=\"xtick_18\">\r\n     <g id=\"line2d_23\">\r\n      <g>\r\n       <use style=\"stroke:#000000;stroke-width:0.8;\" x=\"279.771268\" xlink:href=\"#me726a0349a\" y=\"203.04\"/>\r\n      </g>\r\n     </g>\r\n     <g id=\"text_9\">\r\n      <!-- 2018-01-21 -->\r\n      <g transform=\"translate(228.401816 245.678252)rotate(-30)scale(0.1 -0.1)\">\r\n       <use xlink:href=\"#DejaVuSans-50\"/>\r\n       <use x=\"63.623047\" xlink:href=\"#DejaVuSans-48\"/>\r\n       <use x=\"127.246094\" xlink:href=\"#DejaVuSans-49\"/>\r\n       <use x=\"190.869141\" xlink:href=\"#DejaVuSans-56\"/>\r\n       <use x=\"254.492188\" xlink:href=\"#DejaVuSans-45\"/>\r\n       <use x=\"290.576172\" xlink:href=\"#DejaVuSans-48\"/>\r\n       <use x=\"354.199219\" xlink:href=\"#DejaVuSans-49\"/>\r\n       <use x=\"417.822266\" xlink:href=\"#DejaVuSans-45\"/>\r\n       <use x=\"453.90625\" xlink:href=\"#DejaVuSans-50\"/>\r\n       <use x=\"517.529297\" xlink:href=\"#DejaVuSans-49\"/>\r\n      </g>\r\n     </g>\r\n    </g>\r\n    <g id=\"xtick_19\">\r\n     <g id=\"line2d_24\">\r\n      <g>\r\n       <use style=\"stroke:#000000;stroke-width:0.8;\" x=\"323.251787\" xlink:href=\"#me726a0349a\" y=\"203.04\"/>\r\n      </g>\r\n     </g>\r\n     <g id=\"text_10\">\r\n      <!-- 2018-01-25 -->\r\n      <g transform=\"translate(271.882336 245.678252)rotate(-30)scale(0.1 -0.1)\">\r\n       <use xlink:href=\"#DejaVuSans-50\"/>\r\n       <use x=\"63.623047\" xlink:href=\"#DejaVuSans-48\"/>\r\n       <use x=\"127.246094\" xlink:href=\"#DejaVuSans-49\"/>\r\n       <use x=\"190.869141\" xlink:href=\"#DejaVuSans-56\"/>\r\n       <use x=\"254.492188\" xlink:href=\"#DejaVuSans-45\"/>\r\n       <use x=\"290.576172\" xlink:href=\"#DejaVuSans-48\"/>\r\n       <use x=\"354.199219\" xlink:href=\"#DejaVuSans-49\"/>\r\n       <use x=\"417.822266\" xlink:href=\"#DejaVuSans-45\"/>\r\n       <use x=\"453.90625\" xlink:href=\"#DejaVuSans-50\"/>\r\n       <use x=\"517.529297\" xlink:href=\"#DejaVuSans-53\"/>\r\n      </g>\r\n     </g>\r\n    </g>\r\n    <g id=\"xtick_20\">\r\n     <g id=\"line2d_25\">\r\n      <g>\r\n       <use style=\"stroke:#000000;stroke-width:0.8;\" x=\"366.732306\" xlink:href=\"#me726a0349a\" y=\"203.04\"/>\r\n      </g>\r\n     </g>\r\n     <g id=\"text_11\">\r\n      <!-- 2018-01-29 -->\r\n      <g transform=\"translate(315.362855 245.678252)rotate(-30)scale(0.1 -0.1)\">\r\n       <use xlink:href=\"#DejaVuSans-50\"/>\r\n       <use x=\"63.623047\" xlink:href=\"#DejaVuSans-48\"/>\r\n       <use x=\"127.246094\" xlink:href=\"#DejaVuSans-49\"/>\r\n       <use x=\"190.869141\" xlink:href=\"#DejaVuSans-56\"/>\r\n       <use x=\"254.492188\" xlink:href=\"#DejaVuSans-45\"/>\r\n       <use x=\"290.576172\" xlink:href=\"#DejaVuSans-48\"/>\r\n       <use x=\"354.199219\" xlink:href=\"#DejaVuSans-49\"/>\r\n       <use x=\"417.822266\" xlink:href=\"#DejaVuSans-45\"/>\r\n       <use x=\"453.90625\" xlink:href=\"#DejaVuSans-50\"/>\r\n       <use x=\"517.529297\" xlink:href=\"#DejaVuSans-57\"/>\r\n      </g>\r\n     </g>\r\n    </g>\r\n    <g id=\"xtick_21\">\r\n     <g id=\"line2d_26\">\r\n      <g>\r\n       <use style=\"stroke:#000000;stroke-width:0.6;\" x=\"94.97906\" xlink:href=\"#me7f62317ba\" y=\"203.04\"/>\r\n      </g>\r\n     </g>\r\n    </g>\r\n    <g id=\"xtick_22\">\r\n     <g id=\"line2d_27\">\r\n      <g>\r\n       <use style=\"stroke:#000000;stroke-width:0.6;\" x=\"203.680358\" xlink:href=\"#me7f62317ba\" y=\"203.04\"/>\r\n      </g>\r\n     </g>\r\n    </g>\r\n    <g id=\"xtick_23\">\r\n     <g id=\"line2d_28\">\r\n      <g>\r\n       <use style=\"stroke:#000000;stroke-width:0.6;\" x=\"258.031008\" xlink:href=\"#me7f62317ba\" y=\"203.04\"/>\r\n      </g>\r\n     </g>\r\n    </g>\r\n    <g id=\"xtick_24\">\r\n     <g id=\"line2d_29\">\r\n      <g>\r\n       <use style=\"stroke:#000000;stroke-width:0.6;\" x=\"312.381657\" xlink:href=\"#me7f62317ba\" y=\"203.04\"/>\r\n      </g>\r\n     </g>\r\n    </g>\r\n    <g id=\"text_12\">\r\n     <!-- Date -->\r\n     <g transform=\"translate(213.469837 259.077752)scale(0.1 -0.1)\">\r\n      <defs>\r\n       <path d=\"M 19.671875 64.796875 \r\nL 19.671875 8.109375 \r\nL 31.59375 8.109375 \r\nQ 46.6875 8.109375 53.6875 14.9375 \r\nQ 60.6875 21.78125 60.6875 36.53125 \r\nQ 60.6875 51.171875 53.6875 57.984375 \r\nQ 46.6875 64.796875 31.59375 64.796875 \r\nz\r\nM 9.8125 72.90625 \r\nL 30.078125 72.90625 \r\nQ 51.265625 72.90625 61.171875 64.09375 \r\nQ 71.09375 55.28125 71.09375 36.53125 \r\nQ 71.09375 17.671875 61.125 8.828125 \r\nQ 51.171875 0 30.078125 0 \r\nL 9.8125 0 \r\nz\r\n\" id=\"DejaVuSans-68\"/>\r\n       <path d=\"M 34.28125 27.484375 \r\nQ 23.390625 27.484375 19.1875 25 \r\nQ 14.984375 22.515625 14.984375 16.5 \r\nQ 14.984375 11.71875 18.140625 8.90625 \r\nQ 21.296875 6.109375 26.703125 6.109375 \r\nQ 34.1875 6.109375 38.703125 11.40625 \r\nQ 43.21875 16.703125 43.21875 25.484375 \r\nL 43.21875 27.484375 \r\nz\r\nM 52.203125 31.203125 \r\nL 52.203125 0 \r\nL 43.21875 0 \r\nL 43.21875 8.296875 \r\nQ 40.140625 3.328125 35.546875 0.953125 \r\nQ 30.953125 -1.421875 24.3125 -1.421875 \r\nQ 15.921875 -1.421875 10.953125 3.296875 \r\nQ 6 8.015625 6 15.921875 \r\nQ 6 25.140625 12.171875 29.828125 \r\nQ 18.359375 34.515625 30.609375 34.515625 \r\nL 43.21875 34.515625 \r\nL 43.21875 35.40625 \r\nQ 43.21875 41.609375 39.140625 45 \r\nQ 35.0625 48.390625 27.6875 48.390625 \r\nQ 23 48.390625 18.546875 47.265625 \r\nQ 14.109375 46.140625 10.015625 43.890625 \r\nL 10.015625 52.203125 \r\nQ 14.9375 54.109375 19.578125 55.046875 \r\nQ 24.21875 56 28.609375 56 \r\nQ 40.484375 56 46.34375 49.84375 \r\nQ 52.203125 43.703125 52.203125 31.203125 \r\nz\r\n\" id=\"DejaVuSans-97\"/>\r\n      </defs>\r\n      <use xlink:href=\"#DejaVuSans-68\"/>\r\n      <use x=\"77.001953\" xlink:href=\"#DejaVuSans-97\"/>\r\n      <use x=\"138.28125\" xlink:href=\"#DejaVuSans-116\"/>\r\n      <use x=\"177.490234\" xlink:href=\"#DejaVuSans-101\"/>\r\n     </g>\r\n    </g>\r\n   </g>\r\n   <g id=\"matplotlib.axis_4\">\r\n    <g id=\"ytick_3\">\r\n     <g id=\"line2d_30\">\r\n      <g>\r\n       <use style=\"stroke:#000000;stroke-width:0.8;\" x=\"58.020618\" xlink:href=\"#m7f4cbfb00c\" y=\"170.772788\"/>\r\n      </g>\r\n     </g>\r\n     <g id=\"text_13\">\r\n      <!-- −0.01 -->\r\n      <g transform=\"translate(20.375306 174.572007)scale(0.1 -0.1)\">\r\n       <defs>\r\n        <path d=\"M 10.59375 35.5 \r\nL 73.1875 35.5 \r\nL 73.1875 27.203125 \r\nL 10.59375 27.203125 \r\nz\r\n\" id=\"DejaVuSans-8722\"/>\r\n        <path d=\"M 10.6875 12.40625 \r\nL 21 12.40625 \r\nL 21 0 \r\nL 10.6875 0 \r\nz\r\n\" id=\"DejaVuSans-46\"/>\r\n       </defs>\r\n       <use xlink:href=\"#DejaVuSans-8722\"/>\r\n       <use x=\"83.789062\" xlink:href=\"#DejaVuSans-48\"/>\r\n       <use x=\"147.412109\" xlink:href=\"#DejaVuSans-46\"/>\r\n       <use x=\"179.199219\" xlink:href=\"#DejaVuSans-48\"/>\r\n       <use x=\"242.822266\" xlink:href=\"#DejaVuSans-49\"/>\r\n      </g>\r\n     </g>\r\n    </g>\r\n    <g id=\"ytick_4\">\r\n     <g id=\"line2d_31\">\r\n      <g>\r\n       <use style=\"stroke:#000000;stroke-width:0.8;\" x=\"58.020618\" xlink:href=\"#m7f4cbfb00c\" y=\"134.837408\"/>\r\n      </g>\r\n     </g>\r\n     <g id=\"text_14\">\r\n      <!-- 0.00 -->\r\n      <g transform=\"translate(28.754993 138.636627)scale(0.1 -0.1)\">\r\n       <use xlink:href=\"#DejaVuSans-48\"/>\r\n       <use x=\"63.623047\" xlink:href=\"#DejaVuSans-46\"/>\r\n       <use x=\"95.410156\" xlink:href=\"#DejaVuSans-48\"/>\r\n       <use x=\"159.033203\" xlink:href=\"#DejaVuSans-48\"/>\r\n      </g>\r\n     </g>\r\n    </g>\r\n   </g>\r\n   <g id=\"line2d_32\">\r\n    <path clip-path=\"url(#p031300168a)\" d=\"M 73.2388 158.938337 \r\nL 84.10893 162.034145 \r\nL 94.97906 139.044078 \r\nL 105.84919 140.217614 \r\nL 138.459579 134.193786 \r\nL 149.329709 151.976152 \r\nL 160.199839 165.945499 \r\nL 171.069969 198.993719 \r\nL 181.940099 159.286843 \r\nL 225.420618 150.034756 \r\nL 236.290748 178.190022 \r\nL 247.160878 118.068099 \r\nL 258.031008 153.112742 \r\nL 290.641397 164.463041 \r\nL 301.511527 133.768652 \r\nL 312.381657 175.109942 \r\nL 323.251787 198.939873 \r\nL 334.121917 134.448378 \r\nL 366.732306 178.481886 \r\nL 377.602436 138.667728 \r\n\" style=\"fill:none;stroke:#ff7f0e;stroke-linecap:square;stroke-width:1.5;\"/>\r\n   </g>\r\n   <g id=\"patch_9\">\r\n    <path d=\"M 58.020618 203.04 \r\nL 58.020618 114.021818 \r\n\" style=\"fill:none;stroke:#000000;stroke-linecap:square;stroke-linejoin:miter;stroke-width:0.8;\"/>\r\n   </g>\r\n   <g id=\"patch_10\">\r\n    <path d=\"M 392.820618 203.04 \r\nL 392.820618 114.021818 \r\n\" style=\"fill:none;stroke:#000000;stroke-linecap:square;stroke-linejoin:miter;stroke-width:0.8;\"/>\r\n   </g>\r\n   <g id=\"patch_11\">\r\n    <path d=\"M 58.020618 203.04 \r\nL 392.820618 203.04 \r\n\" style=\"fill:none;stroke:#000000;stroke-linecap:square;stroke-linejoin:miter;stroke-width:0.8;\"/>\r\n   </g>\r\n   <g id=\"patch_12\">\r\n    <path d=\"M 58.020618 114.021818 \r\nL 392.820618 114.021818 \r\n\" style=\"fill:none;stroke:#000000;stroke-linecap:square;stroke-linejoin:miter;stroke-width:0.8;\"/>\r\n   </g>\r\n   <g id=\"legend_2\">\r\n    <g id=\"patch_13\">\r\n     <path d=\"M 65.020618 198.04 \r\nL 180.322181 198.04 \r\nQ 182.322181 198.04 182.322181 196.04 \r\nL 182.322181 182.361875 \r\nQ 182.322181 180.361875 180.322181 180.361875 \r\nL 65.020618 180.361875 \r\nQ 63.020618 180.361875 63.020618 182.361875 \r\nL 63.020618 196.04 \r\nQ 63.020618 198.04 65.020618 198.04 \r\nz\r\n\" style=\"fill:#ffffff;opacity:0.8;stroke:#cccccc;stroke-linejoin:miter;\"/>\r\n    </g>\r\n    <g id=\"line2d_33\">\r\n     <path d=\"M 67.020618 188.460312 \r\nL 87.020618 188.460312 \r\n\" style=\"fill:none;stroke:#ff7f0e;stroke-linecap:square;stroke-width:1.5;\"/>\r\n    </g>\r\n    <g id=\"line2d_34\"/>\r\n    <g id=\"text_15\">\r\n     <!-- Predicted Return -->\r\n     <g transform=\"translate(95.020618 191.960312)scale(0.1 -0.1)\">\r\n      <defs>\r\n       <path d=\"M 19.671875 64.796875 \r\nL 19.671875 37.40625 \r\nL 32.078125 37.40625 \r\nQ 38.96875 37.40625 42.71875 40.96875 \r\nQ 46.484375 44.53125 46.484375 51.125 \r\nQ 46.484375 57.671875 42.71875 61.234375 \r\nQ 38.96875 64.796875 32.078125 64.796875 \r\nz\r\nM 9.8125 72.90625 \r\nL 32.078125 72.90625 \r\nQ 44.34375 72.90625 50.609375 67.359375 \r\nQ 56.890625 61.8125 56.890625 51.125 \r\nQ 56.890625 40.328125 50.609375 34.8125 \r\nQ 44.34375 29.296875 32.078125 29.296875 \r\nL 19.671875 29.296875 \r\nL 19.671875 0 \r\nL 9.8125 0 \r\nz\r\n\" id=\"DejaVuSans-80\"/>\r\n       <path d=\"M 45.40625 46.390625 \r\nL 45.40625 75.984375 \r\nL 54.390625 75.984375 \r\nL 54.390625 0 \r\nL 45.40625 0 \r\nL 45.40625 8.203125 \r\nQ 42.578125 3.328125 38.25 0.953125 \r\nQ 33.9375 -1.421875 27.875 -1.421875 \r\nQ 17.96875 -1.421875 11.734375 6.484375 \r\nQ 5.515625 14.40625 5.515625 27.296875 \r\nQ 5.515625 40.1875 11.734375 48.09375 \r\nQ 17.96875 56 27.875 56 \r\nQ 33.9375 56 38.25 53.625 \r\nQ 42.578125 51.265625 45.40625 46.390625 \r\nz\r\nM 14.796875 27.296875 \r\nQ 14.796875 17.390625 18.875 11.75 \r\nQ 22.953125 6.109375 30.078125 6.109375 \r\nQ 37.203125 6.109375 41.296875 11.75 \r\nQ 45.40625 17.390625 45.40625 27.296875 \r\nQ 45.40625 37.203125 41.296875 42.84375 \r\nQ 37.203125 48.484375 30.078125 48.484375 \r\nQ 22.953125 48.484375 18.875 42.84375 \r\nQ 14.796875 37.203125 14.796875 27.296875 \r\nz\r\n\" id=\"DejaVuSans-100\"/>\r\n       <path d=\"M 9.421875 54.6875 \r\nL 18.40625 54.6875 \r\nL 18.40625 0 \r\nL 9.421875 0 \r\nz\r\nM 9.421875 75.984375 \r\nL 18.40625 75.984375 \r\nL 18.40625 64.59375 \r\nL 9.421875 64.59375 \r\nz\r\n\" id=\"DejaVuSans-105\"/>\r\n       <path d=\"M 48.78125 52.59375 \r\nL 48.78125 44.1875 \r\nQ 44.96875 46.296875 41.140625 47.34375 \r\nQ 37.3125 48.390625 33.40625 48.390625 \r\nQ 24.65625 48.390625 19.8125 42.84375 \r\nQ 14.984375 37.3125 14.984375 27.296875 \r\nQ 14.984375 17.28125 19.8125 11.734375 \r\nQ 24.65625 6.203125 33.40625 6.203125 \r\nQ 37.3125 6.203125 41.140625 7.25 \r\nQ 44.96875 8.296875 48.78125 10.40625 \r\nL 48.78125 2.09375 \r\nQ 45.015625 0.34375 40.984375 -0.53125 \r\nQ 36.96875 -1.421875 32.421875 -1.421875 \r\nQ 20.0625 -1.421875 12.78125 6.34375 \r\nQ 5.515625 14.109375 5.515625 27.296875 \r\nQ 5.515625 40.671875 12.859375 48.328125 \r\nQ 20.21875 56 33.015625 56 \r\nQ 37.15625 56 41.109375 55.140625 \r\nQ 45.0625 54.296875 48.78125 52.59375 \r\nz\r\n\" id=\"DejaVuSans-99\"/>\r\n       <path id=\"DejaVuSans-32\"/>\r\n      </defs>\r\n      <use xlink:href=\"#DejaVuSans-80\"/>\r\n      <use x=\"58.552734\" xlink:href=\"#DejaVuSans-114\"/>\r\n      <use x=\"97.416016\" xlink:href=\"#DejaVuSans-101\"/>\r\n      <use x=\"158.939453\" xlink:href=\"#DejaVuSans-100\"/>\r\n      <use x=\"222.416016\" xlink:href=\"#DejaVuSans-105\"/>\r\n      <use x=\"250.199219\" xlink:href=\"#DejaVuSans-99\"/>\r\n      <use x=\"305.179688\" xlink:href=\"#DejaVuSans-116\"/>\r\n      <use x=\"344.388672\" xlink:href=\"#DejaVuSans-101\"/>\r\n      <use x=\"405.912109\" xlink:href=\"#DejaVuSans-100\"/>\r\n      <use x=\"469.388672\" xlink:href=\"#DejaVuSans-32\"/>\r\n      <use x=\"501.175781\" xlink:href=\"#DejaVuSans-82\"/>\r\n      <use x=\"566.158203\" xlink:href=\"#DejaVuSans-101\"/>\r\n      <use x=\"627.681641\" xlink:href=\"#DejaVuSans-116\"/>\r\n      <use x=\"666.890625\" xlink:href=\"#DejaVuSans-117\"/>\r\n      <use x=\"730.269531\" xlink:href=\"#DejaVuSans-114\"/>\r\n      <use x=\"769.632812\" xlink:href=\"#DejaVuSans-110\"/>\r\n     </g>\r\n    </g>\r\n   </g>\r\n  </g>\r\n </g>\r\n <defs>\r\n  <clipPath id=\"p634c0ee99b\">\r\n   <rect height=\"89.018182\" width=\"334.8\" x=\"58.020618\" y=\"7.2\"/>\r\n  </clipPath>\r\n  <clipPath id=\"p031300168a\">\r\n   <rect height=\"89.018182\" width=\"334.8\" x=\"58.020618\" y=\"114.021818\"/>\r\n  </clipPath>\r\n </defs>\r\n</svg>\r\n",
      "image/png": "[encoded data removed]"
     },
     "metadata": {
      "needs_background": "light"
     }
    }
   ],
   "source": [
    "# Plot the first 20 predictions vs the true values\n",
    "# YOUR CODE HERE!\n",
    "Results[:20].plot(subplots=True)\n"
   ]
  },
  {
   "cell_type": "markdown",
   "metadata": {},
   "source": [
    "# Out-of-Sample Performance\n",
    "\n",
    "Evaluate the model using \"out-of-sample\" data (X_test and y_test)"
   ]
  },
  {
   "cell_type": "code",
   "execution_count": 29,
   "metadata": {},
   "outputs": [
    {
     "output_type": "stream",
     "name": "stdout",
     "text": [
      "Out-of-Sample Mean Squared Error (MSE): 0.17238552644349286\nOut-of-Sample Root Mean Squared Error (RMSE): 0.4151933603075715\n"
     ]
    }
   ],
   "source": [
    "from sklearn.metrics import mean_squared_error\n",
    "from sklearn.metrics import r2_score\n",
    "# Calculate the mean_squared_error (MSE) on actual versus predicted test \"y\" \n",
    "# YOUR CODE HERE!\n",
    "mse = mean_squared_error(\n",
    "    Results[\"Return\"],\n",
    "    Results[\"Predicted Return\"]\n",
    ")\n",
    "print(f\"Out-of-Sample Mean Squared Error (MSE): {mse}\")\n",
    "# Using that mean-squared-error, calculate the root-mean-squared error (RMSE):\n",
    "# YOUR CODE HERE!\n",
    "rmse = np.sqrt(mse)\n",
    "print(f\"Out-of-Sample Root Mean Squared Error (RMSE): {rmse}\")\n"
   ]
  },
  {
   "cell_type": "markdown",
   "metadata": {},
   "source": [
    "# In-Sample Performance\n",
    "\n",
    "Evaluate the model using in-sample data (X_train and y_train)"
   ]
  },
  {
   "cell_type": "code",
   "execution_count": 30,
   "metadata": {},
   "outputs": [
    {
     "output_type": "stream",
     "name": "stdout",
     "text": [
      "In-sample Root Mean Squared Error (RMSE): 0.5657562717010388\n"
     ]
    }
   ],
   "source": [
    "# Construct a dataframe using just the \"y\" training data:\n",
    "# YOUR CODE HERE!\n",
    "in_sample_results = y_train.to_frame()\n",
    "\n",
    "# Add a column of \"in-sample\" predictions to that dataframe:  \n",
    "# YOUR CODE HERE!\n",
    "in_sample_results[\"In-sample Predictions\"] = model.predict(X_train)\n",
    "\n",
    "# Calculate in-sample mean_squared_error (for comparison to out-of-sample)\n",
    "# YOUR CODE HERE!\n",
    "in_sample_mse = mean_squared_error(\n",
    "    in_sample_results[\"Return\"],\n",
    "    in_sample_results[\"In-sample Predictions\"]\n",
    ")\n",
    "\n",
    "# Calculate in-sample root mean_squared_error (for comparison to out-of-sample)\n",
    "# YOUR CODE HERE!\n",
    "in_sample_rmse = np.sqrt(in_sample_mse)\n",
    "print(f\"In-sample Root Mean Squared Error (RMSE): {in_sample_rmse}\")"
   ]
  },
  {
   "cell_type": "markdown",
   "metadata": {},
   "source": [
    "# Conclusions"
   ]
  },
  {
   "cell_type": "markdown",
   "metadata": {},
   "source": [
    "YOUR CONCLUSIONS HERE!"
   ]
  },
  {
   "cell_type": "markdown",
   "metadata": {},
   "source": []
  }
 ],
 "metadata": {
  "file_extension": ".py",
  "kernelspec": {
   "name": "python3",
   "display_name": "Python 3.8.5 64-bit (conda)",
   "metadata": {
    "interpreter": {
     "hash": "c31f5af5f3604b10d648fb3b7cba8699cdc40fefa0ff8bf6a9b00f71428b8e1f"
    }
   }
  },
  "language_info": {
   "codemirror_mode": {
    "name": "ipython",
    "version": 3
   },
   "file_extension": ".py",
   "mimetype": "text/x-python",
   "name": "python",
   "nbconvert_exporter": "python",
   "pygments_lexer": "ipython3",
   "version": "3.8.5-final"
  },
  "mimetype": "text/x-python",
  "name": "python",
  "npconvert_exporter": "python",
  "pygments_lexer": "ipython3",
  "version": 3
 },
 "nbformat": 4,
 "nbformat_minor": 4
}